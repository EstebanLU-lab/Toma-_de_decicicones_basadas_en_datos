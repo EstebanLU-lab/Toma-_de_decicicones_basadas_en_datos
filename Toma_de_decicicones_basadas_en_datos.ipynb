{
 "cells": [
  {
   "cell_type": "markdown",
   "metadata": {},
   "source": [
    "# Hola Esteban! <a class=\"tocSkip\"></a>\n",
    "\n",
    "Mi nombre es Oscar Flores y tengo el gusto de revisar tu proyecto. Si tienes algún comentario que quieras agregar en tus respuestas te puedes referir a mi como Oscar, no hay problema que me trates de tú.\n",
    "\n",
    "Si veo un error en la primera revisión solamente lo señalaré y dejaré que tú encuentres de qué se trata y cómo arreglarlo. Debo prepararte para que te desempeñes como especialista en Data, en un trabajo real, el responsable a cargo tuyo hará lo mismo. Si aún tienes dificultades para resolver esta tarea, te daré indicaciones más precisas en una siguiente iteración.\n",
    "\n",
    "Te dejaré mis comentarios más abajo - **por favor, no los muevas, modifiques o borres**\n",
    "\n",
    "Comenzaré mis comentarios con un resumen de los puntos que están bien, aquellos que debes corregir y aquellos que puedes mejorar. Luego deberás revisar todo el notebook para leer mis comentarios, los cuales estarán en rectángulos de color verde, amarillo o rojo como siguen:\n",
    "\n",
    "<div class=\"alert alert-block alert-success\">\n",
    "<b>Comentario de Reviewer</b> <a class=\"tocSkip\"></a>\n",
    "    \n",
    "Muy bien! Toda la respuesta fue lograda satisfactoriamente.\n",
    "</div>\n",
    "\n",
    "<div class=\"alert alert-block alert-warning\">\n",
    "<b>Comentario de Reviewer</b> <a class=\"tocSkip\"></a>\n",
    "\n",
    "Existen detalles a mejorar. Existen recomendaciones.\n",
    "</div>\n",
    "\n",
    "<div class=\"alert alert-block alert-danger\">\n",
    "\n",
    "<b>Comentario de Reviewer</b> <a class=\"tocSkip\"></a>\n",
    "\n",
    "Se necesitan correcciones en el bloque. El trabajo no puede ser aceptado con comentarios en rojo sin solucionar.\n",
    "</div>\n",
    "\n",
    "Cualquier comentario que quieras agregar entre iteraciones de revisión lo puedes hacer de la siguiente manera:\n",
    "\n",
    "<div class=\"alert alert-block alert-info\">\n",
    "<b>Respuesta estudiante.</b> <a class=\"tocSkip\"></a>\n",
    "</div>\n",
    "\n",
    "Mucho éxito en el proyecto!"
   ]
  },
  {
   "cell_type": "markdown",
   "metadata": {},
   "source": [
    "## Resumen de la revisión 1 <a class=\"tocSkip\"></a>"
   ]
  },
  {
   "cell_type": "markdown",
   "metadata": {},
   "source": [
    "<div class=\"alert alert-block alert-danger\">\n",
    "<b>Comentario de Revisor</b> <a class=\"tocSkip\"></a>\n",
    "\n",
    "Hola Esteban, buen trabajo, en general tu notebook está bien desarrollado. De todas formas, hay algunas partes uqe debes corregir, como al principio donde debes descartar los usuarios duplicados, corregir un gráfico de análisis y complementar los test con el valor-p y la decisión de rechazo o no rechazo. Te deje comentarios en rojo en esas partes.\n",
    "    \n",
    "Saludos!    \n",
    "\n",
    "</div>"
   ]
  },
  {
   "cell_type": "markdown",
   "metadata": {},
   "source": [
    "## Resumen de la revisión 2 <a class=\"tocSkip\"></a>"
   ]
  },
  {
   "cell_type": "markdown",
   "metadata": {},
   "source": [
    "<div class=\"alert alert-block alert-danger\">\n",
    "<b>Comentario de Revisor v2</b> <a class=\"tocSkip\"></a>\n",
    "\n",
    "Buen trabajo Esteban, tu notebook está casi terminado. Revisa la última celda, que no compila puesto que le falta una variable.\n",
    "    \n",
    "Saludos!    \n",
    "\n",
    "</div>"
   ]
  },
  {
   "cell_type": "markdown",
   "metadata": {},
   "source": [
    "## Resumen de la revisión 3 <a class=\"tocSkip\"></a>"
   ]
  },
  {
   "cell_type": "markdown",
   "metadata": {},
   "source": [
    "<div class=\"alert alert-block alert-success\">\n",
    "<b>Comentario de Revisor v3</b> <a class=\"tocSkip\"></a>\n",
    "\n",
    "Bien hecho Esteban, has completado correctamente todo lo necesario para completar el notebook, no tengo comentarios de corrección adicionales. Está aprobado!\n",
    "    \n",
    "Saludos!    \n",
    "\n",
    "</div>"
   ]
  },
  {
   "cell_type": "markdown",
   "metadata": {},
   "source": [
    "# PROYECTO 10 \n"
   ]
  },
  {
   "cell_type": "markdown",
   "metadata": {},
   "source": [
    " Eres analista en una gran tienda online. Junto con el departamento de marketing has recopilado una lista de hipótesis que pueden ayudar a aumentar los ingresos.\n",
    "\n",
    " Tienes que priorizar estas hipótesis, lanzar un test A/B y analizar los resultados."
   ]
  },
  {
   "cell_type": "code",
   "execution_count": 1,
   "metadata": {},
   "outputs": [],
   "source": [
    "import pandas as pd\n",
    "import numpy as np\n",
    "from matplotlib import pyplot as plt \n",
    "import math as mth\n",
    "from scipy import stats as st "
   ]
  },
  {
   "cell_type": "markdown",
   "metadata": {},
   "source": [
    "## Parte 1. Priorizar hipótesis"
   ]
  },
  {
   "cell_type": "markdown",
   "metadata": {},
   "source": [
    "### El archivo hypotheses_us.csv contiene nueve hipótesis sobre cómo aumentar los ingresos de una tienda online con Reach, Impact, Confidence y Effort especificados para cada una."
   ]
  },
  {
   "cell_type": "raw",
   "metadata": {},
   "source": [
    "hipotesis = pd.read_csv('hypotheses_us-2.csv', sep=';')\n",
    "\n",
    "hipotesis"
   ]
  },
  {
   "cell_type": "code",
   "execution_count": 2,
   "metadata": {},
   "outputs": [
    {
     "data": {
      "text/html": [
       "<div>\n",
       "<style scoped>\n",
       "    .dataframe tbody tr th:only-of-type {\n",
       "        vertical-align: middle;\n",
       "    }\n",
       "\n",
       "    .dataframe tbody tr th {\n",
       "        vertical-align: top;\n",
       "    }\n",
       "\n",
       "    .dataframe thead th {\n",
       "        text-align: right;\n",
       "    }\n",
       "</style>\n",
       "<table border=\"1\" class=\"dataframe\">\n",
       "  <thead>\n",
       "    <tr style=\"text-align: right;\">\n",
       "      <th></th>\n",
       "      <th>Hypothesis</th>\n",
       "      <th>Reach</th>\n",
       "      <th>Impact</th>\n",
       "      <th>Confidence</th>\n",
       "      <th>Effort</th>\n",
       "    </tr>\n",
       "  </thead>\n",
       "  <tbody>\n",
       "    <tr>\n",
       "      <th>0</th>\n",
       "      <td>Add two new channels for attracting traffic. T...</td>\n",
       "      <td>3</td>\n",
       "      <td>10</td>\n",
       "      <td>8</td>\n",
       "      <td>6</td>\n",
       "    </tr>\n",
       "    <tr>\n",
       "      <th>1</th>\n",
       "      <td>Launch your own delivery service. This will sh...</td>\n",
       "      <td>2</td>\n",
       "      <td>5</td>\n",
       "      <td>4</td>\n",
       "      <td>10</td>\n",
       "    </tr>\n",
       "    <tr>\n",
       "      <th>2</th>\n",
       "      <td>Add product recommendation blocks to the store...</td>\n",
       "      <td>8</td>\n",
       "      <td>3</td>\n",
       "      <td>7</td>\n",
       "      <td>3</td>\n",
       "    </tr>\n",
       "    <tr>\n",
       "      <th>3</th>\n",
       "      <td>Change the category structure. This will incre...</td>\n",
       "      <td>8</td>\n",
       "      <td>3</td>\n",
       "      <td>3</td>\n",
       "      <td>8</td>\n",
       "    </tr>\n",
       "    <tr>\n",
       "      <th>4</th>\n",
       "      <td>Change the background color on the main page. ...</td>\n",
       "      <td>3</td>\n",
       "      <td>1</td>\n",
       "      <td>1</td>\n",
       "      <td>1</td>\n",
       "    </tr>\n",
       "    <tr>\n",
       "      <th>5</th>\n",
       "      <td>Add a customer review page. This will increase...</td>\n",
       "      <td>3</td>\n",
       "      <td>2</td>\n",
       "      <td>2</td>\n",
       "      <td>3</td>\n",
       "    </tr>\n",
       "    <tr>\n",
       "      <th>6</th>\n",
       "      <td>Show banners with current offers and sales on ...</td>\n",
       "      <td>5</td>\n",
       "      <td>3</td>\n",
       "      <td>8</td>\n",
       "      <td>3</td>\n",
       "    </tr>\n",
       "    <tr>\n",
       "      <th>7</th>\n",
       "      <td>Add a subscription form to all the main pages....</td>\n",
       "      <td>10</td>\n",
       "      <td>7</td>\n",
       "      <td>8</td>\n",
       "      <td>5</td>\n",
       "    </tr>\n",
       "    <tr>\n",
       "      <th>8</th>\n",
       "      <td>Launch a promotion that gives users discounts ...</td>\n",
       "      <td>1</td>\n",
       "      <td>9</td>\n",
       "      <td>9</td>\n",
       "      <td>5</td>\n",
       "    </tr>\n",
       "  </tbody>\n",
       "</table>\n",
       "</div>"
      ],
      "text/plain": [
       "                                          Hypothesis  Reach  Impact  \\\n",
       "0  Add two new channels for attracting traffic. T...      3      10   \n",
       "1  Launch your own delivery service. This will sh...      2       5   \n",
       "2  Add product recommendation blocks to the store...      8       3   \n",
       "3  Change the category structure. This will incre...      8       3   \n",
       "4  Change the background color on the main page. ...      3       1   \n",
       "5  Add a customer review page. This will increase...      3       2   \n",
       "6  Show banners with current offers and sales on ...      5       3   \n",
       "7  Add a subscription form to all the main pages....     10       7   \n",
       "8  Launch a promotion that gives users discounts ...      1       9   \n",
       "\n",
       "   Confidence  Effort  \n",
       "0           8       6  \n",
       "1           4      10  \n",
       "2           7       3  \n",
       "3           3       8  \n",
       "4           1       1  \n",
       "5           2       3  \n",
       "6           8       3  \n",
       "7           8       5  \n",
       "8           9       5  "
      ]
     },
     "execution_count": 2,
     "metadata": {},
     "output_type": "execute_result"
    }
   ],
   "source": [
    "hipotesis = pd.read_csv('/datasets/hypotheses_us.csv', sep=';')\n",
    "\n",
    "hipotesis"
   ]
  },
  {
   "cell_type": "markdown",
   "metadata": {},
   "source": [
    "### Aplicar el framework ICE para priorizar hipótesis. Ordenarlas en orden descendente de prioridad."
   ]
  },
  {
   "cell_type": "code",
   "execution_count": 3,
   "metadata": {},
   "outputs": [
    {
     "name": "stdout",
     "output_type": "stream",
     "text": [
      "                                          Hypothesis        ICE\n",
      "8  Launch a promotion that gives users discounts ...  16.200000\n",
      "0  Add two new channels for attracting traffic. T...  13.333333\n",
      "7  Add a subscription form to all the main pages....  11.200000\n",
      "6  Show banners with current offers and sales on ...   8.000000\n",
      "2  Add product recommendation blocks to the store...   7.000000\n",
      "1  Launch your own delivery service. This will sh...   2.000000\n",
      "5  Add a customer review page. This will increase...   1.333333\n",
      "3  Change the category structure. This will incre...   1.125000\n",
      "4  Change the background color on the main page. ...   1.000000\n"
     ]
    }
   ],
   "source": [
    "hipotesis['ICE'] = (hipotesis['Impact'] * hipotesis['Confidence'])/ hipotesis['Effort']\n",
    "print(hipotesis[['Hypothesis','ICE']].sort_values(by='ICE', ascending =False))"
   ]
  },
  {
   "cell_type": "markdown",
   "metadata": {},
   "source": [
    "### Aplicar el framework RICE para priorizar hipótesis. Ordenarlas en orden descendente de prioridad."
   ]
  },
  {
   "cell_type": "code",
   "execution_count": 4,
   "metadata": {},
   "outputs": [
    {
     "name": "stdout",
     "output_type": "stream",
     "text": [
      "                                          Hypothesis   RICE\n",
      "7  Add a subscription form to all the main pages....  112.0\n",
      "2  Add product recommendation blocks to the store...   56.0\n",
      "0  Add two new channels for attracting traffic. T...   40.0\n",
      "6  Show banners with current offers and sales on ...   40.0\n",
      "8  Launch a promotion that gives users discounts ...   16.2\n",
      "3  Change the category structure. This will incre...    9.0\n",
      "1  Launch your own delivery service. This will sh...    4.0\n",
      "5  Add a customer review page. This will increase...    4.0\n",
      "4  Change the background color on the main page. ...    3.0\n"
     ]
    }
   ],
   "source": [
    "hipotesis['RICE'] = (hipotesis['Reach'] * hipotesis['Impact'] * hipotesis['Confidence'])/ hipotesis['Effort']\n",
    "print(hipotesis[['Hypothesis','RICE']].sort_values(by='RICE', ascending =False))"
   ]
  },
  {
   "cell_type": "markdown",
   "metadata": {},
   "source": [
    "### Mostrar cómo cambia la priorización de hipótesis cuando utilizas RICE en lugar de ICE. Proporcionar una explicación de los cambios."
   ]
  },
  {
   "cell_type": "code",
   "execution_count": 5,
   "metadata": {},
   "outputs": [
    {
     "data": {
      "image/png": "[encoded data removed]",
      "text/plain": [
       "<Figure size 640x480 with 1 Axes>"
      ]
     },
     "metadata": {},
     "output_type": "display_data"
    }
   ],
   "source": [
    "columns=['ICE','RICE']\n",
    "hipotesis.plot(\n",
    "    kind='bar',\n",
    "    x='Hypothesis',\n",
    "    y=columns,\n",
    "    title='Comparativa de framework ICE y RICE',\n",
    "    rot=90,\n",
    "    ylabel='Puntuacion'\n",
    ")\n",
    "plt.legend(['ICE','RICE'])\n",
    "plt.show()"
   ]
  },
  {
   "cell_type": "markdown",
   "metadata": {},
   "source": [
    "Podemos ver una gran diferencia encuanto a puntuaciones de ambos framework's utilizados para priorizar las hipotesis.\n",
    "\n",
    "Esto podemos acreditarlo al factor de Reach(Alcance) que nos dice que algunas hipotesis poseen mas alcance que otras es decir afectaran a un mayor numero de Usiarios, en este sentido podemos priorizar la hipotesis \"Add a subscription form to all the main pages....\" alacanzando el tercer puesto en 'ICE', pero al poceer un gran alcance es decir un primer puesto en 'RICE' nos dara una resultado mas exacto.\n"
   ]
  },
  {
   "cell_type": "markdown",
   "metadata": {},
   "source": [
    "<div class=\"alert alert-block alert-success\">\n",
    "<b>Comentario de Revisor</b> <a class=\"tocSkip\"></a>\n",
    "\n",
    "Correctos con los comentarios respecto a los scores. El gráfico también ayuda a compararlos, sin embargo, una mejor idea es graficarlos con un scatter plot, esto permite comparar directamente los valores de ambos scores para cada hipótesis.\n",
    "\n",
    "</div>"
   ]
  },
  {
   "cell_type": "markdown",
   "metadata": {},
   "source": [
    "## Parte 2. Análisis del test A/B"
   ]
  },
  {
   "cell_type": "markdown",
   "metadata": {},
   "source": [
    "Realizaste una prueba A/B y obtuviste los resultados descritos en los archivos orders_us.csv y visits_us.csv."
   ]
  },
  {
   "cell_type": "markdown",
   "metadata": {},
   "source": [
    "Aseguiramos el Rango de tiempo dentro del Df  para saber cual es la consideracion de tiempo a evaluar."
   ]
  },
  {
   "cell_type": "raw",
   "metadata": {},
   "source": [
    "orders = pd.read_csv('orders_us-2.csv')\n",
    "orders['date'] = pd.to_datetime(orders['date'])\n",
    "orders['date'].describe()"
   ]
  },
  {
   "cell_type": "code",
   "execution_count": 6,
   "metadata": {},
   "outputs": [
    {
     "data": {
      "text/plain": [
       "count                    1197\n",
       "unique                     31\n",
       "top       2019-08-05 00:00:00\n",
       "freq                       48\n",
       "first     2019-08-01 00:00:00\n",
       "last      2019-08-31 00:00:00\n",
       "Name: date, dtype: object"
      ]
     },
     "execution_count": 6,
     "metadata": {},
     "output_type": "execute_result"
    }
   ],
   "source": [
    "orders = pd.read_csv('/datasets/orders_us.csv')\n",
    "orders['date'] = pd.to_datetime(orders['date'])\n",
    "orders['date'].describe()"
   ]
  },
  {
   "cell_type": "raw",
   "metadata": {},
   "source": [
    "visitas = pd.read_csv('visits_us.csv')\n",
    "visitas['date'] = pd.to_datetime(visitas['date'])\n",
    "print(visitas['date'].describe())"
   ]
  },
  {
   "cell_type": "code",
   "execution_count": 7,
   "metadata": {},
   "outputs": [
    {
     "name": "stdout",
     "output_type": "stream",
     "text": [
      "count                      62\n",
      "unique                     31\n",
      "top       2019-08-27 00:00:00\n",
      "freq                        2\n",
      "first     2019-08-01 00:00:00\n",
      "last      2019-08-31 00:00:00\n",
      "Name: date, dtype: object\n"
     ]
    }
   ],
   "source": [
    "visitas = pd.read_csv('/datasets/visits_us.csv')\n",
    "visitas['date'] = pd.to_datetime(visitas['date'])\n",
    "print(visitas['date'].describe())"
   ]
  },
  {
   "cell_type": "markdown",
   "metadata": {},
   "source": [
    "Notamos que es informacion corespondiente a un mes completo por lo que sacaremos un periodo de dia para cada suceso."
   ]
  },
  {
   "cell_type": "code",
   "execution_count": 8,
   "metadata": {},
   "outputs": [
    {
     "name": "stdout",
     "output_type": "stream",
     "text": [
      "     transactionId   visitorId       date  revenue group  dia\n",
      "149     2368313386  3362039251 2019-08-17    150.4     B   17\n",
      "559     2888367978  1052142804 2019-08-06     15.7     A    6\n",
      "154     4206138190  1219079053 2019-08-01     80.5     A    1\n",
      "214     3485678199  2232111114 2019-08-02    270.0     A    2\n",
      "317      486115048  2358787737 2019-08-19     40.9     A   19\n",
      "\n",
      "         date group  visits  dia\n",
      "0  2019-08-01     A     719    1\n",
      "48 2019-08-18     B     737   18\n",
      "60 2019-08-30     B     490   30\n",
      "42 2019-08-12     B     543   12\n",
      "7  2019-08-08     A     610    8\n"
     ]
    }
   ],
   "source": [
    "orders['dia'] = orders['date'].dt.day\n",
    "visitas['dia'] = visitas['date'].dt.day\n",
    "\n",
    "print(orders.sample(5))\n",
    "print()\n",
    "print(visitas.sample(5))"
   ]
  },
  {
   "cell_type": "markdown",
   "metadata": {},
   "source": [
    "Verificamos que no tengamos los datos mesclados , es decir que usuarios de A no esten en B y biseversa. "
   ]
  },
  {
   "cell_type": "code",
   "execution_count": 9,
   "metadata": {},
   "outputs": [],
   "source": [
    "orders_A = orders[orders['group']=='A']  \n",
    "orders_B = orders[orders['group']=='B']"
   ]
  },
  {
   "cell_type": "code",
   "execution_count": 10,
   "metadata": {},
   "outputs": [],
   "source": [
    "\n",
    "eliminar  = orders_B[orders_B['visitorId'].isin(orders_A['visitorId'])] \n",
    "\n",
    "orders=orders[~orders.isin(eliminar).all(axis=1)]"
   ]
  },
  {
   "cell_type": "code",
   "execution_count": 11,
   "metadata": {},
   "outputs": [
    {
     "data": {
      "text/html": [
       "<div>\n",
       "<style scoped>\n",
       "    .dataframe tbody tr th:only-of-type {\n",
       "        vertical-align: middle;\n",
       "    }\n",
       "\n",
       "    .dataframe tbody tr th {\n",
       "        vertical-align: top;\n",
       "    }\n",
       "\n",
       "    .dataframe thead th {\n",
       "        text-align: right;\n",
       "    }\n",
       "</style>\n",
       "<table border=\"1\" class=\"dataframe\">\n",
       "  <thead>\n",
       "    <tr style=\"text-align: right;\">\n",
       "      <th></th>\n",
       "      <th>transactionId</th>\n",
       "      <th>visitorId</th>\n",
       "      <th>date</th>\n",
       "      <th>revenue</th>\n",
       "      <th>group</th>\n",
       "      <th>dia</th>\n",
       "    </tr>\n",
       "  </thead>\n",
       "  <tbody>\n",
       "    <tr>\n",
       "      <th>0</th>\n",
       "      <td>3667963787</td>\n",
       "      <td>3312258926</td>\n",
       "      <td>2019-08-15</td>\n",
       "      <td>30.4</td>\n",
       "      <td>B</td>\n",
       "      <td>15</td>\n",
       "    </tr>\n",
       "    <tr>\n",
       "      <th>1</th>\n",
       "      <td>2804400009</td>\n",
       "      <td>3642806036</td>\n",
       "      <td>2019-08-15</td>\n",
       "      <td>15.2</td>\n",
       "      <td>B</td>\n",
       "      <td>15</td>\n",
       "    </tr>\n",
       "    <tr>\n",
       "      <th>2</th>\n",
       "      <td>2961555356</td>\n",
       "      <td>4069496402</td>\n",
       "      <td>2019-08-15</td>\n",
       "      <td>10.2</td>\n",
       "      <td>A</td>\n",
       "      <td>15</td>\n",
       "    </tr>\n",
       "    <tr>\n",
       "      <th>3</th>\n",
       "      <td>3797467345</td>\n",
       "      <td>1196621759</td>\n",
       "      <td>2019-08-15</td>\n",
       "      <td>155.1</td>\n",
       "      <td>B</td>\n",
       "      <td>15</td>\n",
       "    </tr>\n",
       "    <tr>\n",
       "      <th>4</th>\n",
       "      <td>2282983706</td>\n",
       "      <td>2322279887</td>\n",
       "      <td>2019-08-15</td>\n",
       "      <td>40.5</td>\n",
       "      <td>B</td>\n",
       "      <td>15</td>\n",
       "    </tr>\n",
       "    <tr>\n",
       "      <th>...</th>\n",
       "      <td>...</td>\n",
       "      <td>...</td>\n",
       "      <td>...</td>\n",
       "      <td>...</td>\n",
       "      <td>...</td>\n",
       "      <td>...</td>\n",
       "    </tr>\n",
       "    <tr>\n",
       "      <th>1192</th>\n",
       "      <td>2662137336</td>\n",
       "      <td>3733762160</td>\n",
       "      <td>2019-08-14</td>\n",
       "      <td>100.8</td>\n",
       "      <td>B</td>\n",
       "      <td>14</td>\n",
       "    </tr>\n",
       "    <tr>\n",
       "      <th>1193</th>\n",
       "      <td>2203539145</td>\n",
       "      <td>370388673</td>\n",
       "      <td>2019-08-14</td>\n",
       "      <td>50.1</td>\n",
       "      <td>A</td>\n",
       "      <td>14</td>\n",
       "    </tr>\n",
       "    <tr>\n",
       "      <th>1194</th>\n",
       "      <td>1807773912</td>\n",
       "      <td>573423106</td>\n",
       "      <td>2019-08-14</td>\n",
       "      <td>165.3</td>\n",
       "      <td>A</td>\n",
       "      <td>14</td>\n",
       "    </tr>\n",
       "    <tr>\n",
       "      <th>1195</th>\n",
       "      <td>1947021204</td>\n",
       "      <td>1614305549</td>\n",
       "      <td>2019-08-14</td>\n",
       "      <td>5.5</td>\n",
       "      <td>A</td>\n",
       "      <td>14</td>\n",
       "    </tr>\n",
       "    <tr>\n",
       "      <th>1196</th>\n",
       "      <td>3936777065</td>\n",
       "      <td>2108080724</td>\n",
       "      <td>2019-08-15</td>\n",
       "      <td>3120.1</td>\n",
       "      <td>B</td>\n",
       "      <td>15</td>\n",
       "    </tr>\n",
       "  </tbody>\n",
       "</table>\n",
       "<p>1105 rows × 6 columns</p>\n",
       "</div>"
      ],
      "text/plain": [
       "      transactionId   visitorId       date  revenue group  dia\n",
       "0        3667963787  3312258926 2019-08-15     30.4     B   15\n",
       "1        2804400009  3642806036 2019-08-15     15.2     B   15\n",
       "2        2961555356  4069496402 2019-08-15     10.2     A   15\n",
       "3        3797467345  1196621759 2019-08-15    155.1     B   15\n",
       "4        2282983706  2322279887 2019-08-15     40.5     B   15\n",
       "...             ...         ...        ...      ...   ...  ...\n",
       "1192     2662137336  3733762160 2019-08-14    100.8     B   14\n",
       "1193     2203539145   370388673 2019-08-14     50.1     A   14\n",
       "1194     1807773912   573423106 2019-08-14    165.3     A   14\n",
       "1195     1947021204  1614305549 2019-08-14      5.5     A   14\n",
       "1196     3936777065  2108080724 2019-08-15   3120.1     B   15\n",
       "\n",
       "[1105 rows x 6 columns]"
      ]
     },
     "execution_count": 11,
     "metadata": {},
     "output_type": "execute_result"
    }
   ],
   "source": [
    "orders"
   ]
  },
  {
   "cell_type": "markdown",
   "metadata": {},
   "source": [
    "<div class=\"alert alert-block alert-danger\">\n",
    "<b>Comentario de Revisor</b> <a class=\"tocSkip\"></a>\n",
    "\n",
    "Esto no verifica que los usuarios se repitan en los grupos, lo que debes analizar es si un visitorId está en ambos grupos A y B. Para los usuarios en estos casos, remuévelos de la data. Al corregir esto, los resultados de las partes siguientes cambiaran un poco.\n",
    "\n",
    "</div>"
   ]
  },
  {
   "cell_type": "markdown",
   "metadata": {},
   "source": [
    "<div class=\"alert alert-block alert-success\">\n",
    "<b>Comentario de Revisor v2</b> <a class=\"tocSkip\"></a>\n",
    "\n",
    "Muy bien, corregido!\n",
    "\n",
    "</div>"
   ]
  },
  {
   "cell_type": "markdown",
   "metadata": {},
   "source": [
    "### Ejercicio\n",
    "\n",
    "### Analiza el test A/B:\n"
   ]
  },
  {
   "cell_type": "markdown",
   "metadata": {},
   "source": [
    "Generamos un DF conlos datos acumulados:"
   ]
  },
  {
   "cell_type": "code",
   "execution_count": 12,
   "metadata": {},
   "outputs": [
    {
     "data": {
      "text/html": [
       "<div>\n",
       "<style scoped>\n",
       "    .dataframe tbody tr th:only-of-type {\n",
       "        vertical-align: middle;\n",
       "    }\n",
       "\n",
       "    .dataframe tbody tr th {\n",
       "        vertical-align: top;\n",
       "    }\n",
       "\n",
       "    .dataframe thead th {\n",
       "        text-align: right;\n",
       "    }\n",
       "</style>\n",
       "<table border=\"1\" class=\"dataframe\">\n",
       "  <thead>\n",
       "    <tr style=\"text-align: right;\">\n",
       "      <th></th>\n",
       "      <th>date</th>\n",
       "      <th>group</th>\n",
       "    </tr>\n",
       "  </thead>\n",
       "  <tbody>\n",
       "    <tr>\n",
       "      <th>0</th>\n",
       "      <td>2019-08-15</td>\n",
       "      <td>B</td>\n",
       "    </tr>\n",
       "    <tr>\n",
       "      <th>2</th>\n",
       "      <td>2019-08-15</td>\n",
       "      <td>A</td>\n",
       "    </tr>\n",
       "    <tr>\n",
       "      <th>45</th>\n",
       "      <td>2019-08-16</td>\n",
       "      <td>A</td>\n",
       "    </tr>\n",
       "    <tr>\n",
       "      <th>47</th>\n",
       "      <td>2019-08-16</td>\n",
       "      <td>B</td>\n",
       "    </tr>\n",
       "    <tr>\n",
       "      <th>55</th>\n",
       "      <td>2019-08-01</td>\n",
       "      <td>A</td>\n",
       "    </tr>\n",
       "    <tr>\n",
       "      <th>...</th>\n",
       "      <td>...</td>\n",
       "      <td>...</td>\n",
       "    </tr>\n",
       "    <tr>\n",
       "      <th>1068</th>\n",
       "      <td>2019-08-12</td>\n",
       "      <td>A</td>\n",
       "    </tr>\n",
       "    <tr>\n",
       "      <th>1114</th>\n",
       "      <td>2019-08-13</td>\n",
       "      <td>B</td>\n",
       "    </tr>\n",
       "    <tr>\n",
       "      <th>1116</th>\n",
       "      <td>2019-08-13</td>\n",
       "      <td>A</td>\n",
       "    </tr>\n",
       "    <tr>\n",
       "      <th>1149</th>\n",
       "      <td>2019-08-14</td>\n",
       "      <td>B</td>\n",
       "    </tr>\n",
       "    <tr>\n",
       "      <th>1150</th>\n",
       "      <td>2019-08-14</td>\n",
       "      <td>A</td>\n",
       "    </tr>\n",
       "  </tbody>\n",
       "</table>\n",
       "<p>62 rows × 2 columns</p>\n",
       "</div>"
      ],
      "text/plain": [
       "           date group\n",
       "0    2019-08-15     B\n",
       "2    2019-08-15     A\n",
       "45   2019-08-16     A\n",
       "47   2019-08-16     B\n",
       "55   2019-08-01     A\n",
       "...         ...   ...\n",
       "1068 2019-08-12     A\n",
       "1114 2019-08-13     B\n",
       "1116 2019-08-13     A\n",
       "1149 2019-08-14     B\n",
       "1150 2019-08-14     A\n",
       "\n",
       "[62 rows x 2 columns]"
      ]
     },
     "execution_count": 12,
     "metadata": {},
     "output_type": "execute_result"
    }
   ],
   "source": [
    "date_by_grup = orders[['date','group']].drop_duplicates()\n",
    "date_by_grup"
   ]
  },
  {
   "cell_type": "code",
   "execution_count": 13,
   "metadata": {},
   "outputs": [
    {
     "data": {
      "text/html": [
       "<div>\n",
       "<style scoped>\n",
       "    .dataframe tbody tr th:only-of-type {\n",
       "        vertical-align: middle;\n",
       "    }\n",
       "\n",
       "    .dataframe tbody tr th {\n",
       "        vertical-align: top;\n",
       "    }\n",
       "\n",
       "    .dataframe thead th {\n",
       "        text-align: right;\n",
       "    }\n",
       "</style>\n",
       "<table border=\"1\" class=\"dataframe\">\n",
       "  <thead>\n",
       "    <tr style=\"text-align: right;\">\n",
       "      <th></th>\n",
       "      <th>date</th>\n",
       "      <th>group</th>\n",
       "      <th>transactionId</th>\n",
       "      <th>visitorId</th>\n",
       "      <th>revenue</th>\n",
       "    </tr>\n",
       "  </thead>\n",
       "  <tbody>\n",
       "    <tr>\n",
       "      <th>55</th>\n",
       "      <td>2019-08-01</td>\n",
       "      <td>A</td>\n",
       "      <td>24</td>\n",
       "      <td>20</td>\n",
       "      <td>2356.8</td>\n",
       "    </tr>\n",
       "    <tr>\n",
       "      <th>66</th>\n",
       "      <td>2019-08-01</td>\n",
       "      <td>B</td>\n",
       "      <td>17</td>\n",
       "      <td>17</td>\n",
       "      <td>967.2</td>\n",
       "    </tr>\n",
       "    <tr>\n",
       "      <th>175</th>\n",
       "      <td>2019-08-02</td>\n",
       "      <td>A</td>\n",
       "      <td>44</td>\n",
       "      <td>38</td>\n",
       "      <td>3860.3</td>\n",
       "    </tr>\n",
       "    <tr>\n",
       "      <th>173</th>\n",
       "      <td>2019-08-02</td>\n",
       "      <td>B</td>\n",
       "      <td>40</td>\n",
       "      <td>39</td>\n",
       "      <td>3535.3</td>\n",
       "    </tr>\n",
       "    <tr>\n",
       "      <th>291</th>\n",
       "      <td>2019-08-03</td>\n",
       "      <td>A</td>\n",
       "      <td>68</td>\n",
       "      <td>62</td>\n",
       "      <td>5675.5</td>\n",
       "    </tr>\n",
       "    <tr>\n",
       "      <th>...</th>\n",
       "      <td>...</td>\n",
       "      <td>...</td>\n",
       "      <td>...</td>\n",
       "      <td>...</td>\n",
       "      <td>...</td>\n",
       "    </tr>\n",
       "    <tr>\n",
       "      <th>533</th>\n",
       "      <td>2019-08-29</td>\n",
       "      <td>B</td>\n",
       "      <td>510</td>\n",
       "      <td>490</td>\n",
       "      <td>74576.7</td>\n",
       "    </tr>\n",
       "    <tr>\n",
       "      <th>730</th>\n",
       "      <td>2019-08-30</td>\n",
       "      <td>A</td>\n",
       "      <td>545</td>\n",
       "      <td>493</td>\n",
       "      <td>63563.5</td>\n",
       "    </tr>\n",
       "    <tr>\n",
       "      <th>690</th>\n",
       "      <td>2019-08-30</td>\n",
       "      <td>B</td>\n",
       "      <td>531</td>\n",
       "      <td>511</td>\n",
       "      <td>77863.5</td>\n",
       "    </tr>\n",
       "    <tr>\n",
       "      <th>958</th>\n",
       "      <td>2019-08-31</td>\n",
       "      <td>A</td>\n",
       "      <td>557</td>\n",
       "      <td>503</td>\n",
       "      <td>64554.9</td>\n",
       "    </tr>\n",
       "    <tr>\n",
       "      <th>930</th>\n",
       "      <td>2019-08-31</td>\n",
       "      <td>B</td>\n",
       "      <td>548</td>\n",
       "      <td>528</td>\n",
       "      <td>79651.2</td>\n",
       "    </tr>\n",
       "  </tbody>\n",
       "</table>\n",
       "<p>62 rows × 5 columns</p>\n",
       "</div>"
      ],
      "text/plain": [
       "          date group  transactionId  visitorId  revenue\n",
       "55  2019-08-01     A             24         20   2356.8\n",
       "66  2019-08-01     B             17         17    967.2\n",
       "175 2019-08-02     A             44         38   3860.3\n",
       "173 2019-08-02     B             40         39   3535.3\n",
       "291 2019-08-03     A             68         62   5675.5\n",
       "..         ...   ...            ...        ...      ...\n",
       "533 2019-08-29     B            510        490  74576.7\n",
       "730 2019-08-30     A            545        493  63563.5\n",
       "690 2019-08-30     B            531        511  77863.5\n",
       "958 2019-08-31     A            557        503  64554.9\n",
       "930 2019-08-31     B            548        528  79651.2\n",
       "\n",
       "[62 rows x 5 columns]"
      ]
     },
     "execution_count": 13,
     "metadata": {},
     "output_type": "execute_result"
    }
   ],
   "source": [
    "acum_orders = date_by_grup.apply(\n",
    "    lambda x :orders[\n",
    "        np.logical_and(orders['date'] <= x['date'] , orders['group'] == x['group'])\n",
    "        ]\n",
    "    .agg(\n",
    "        {'date':'max' , 'group':'max' , 'transactionId': pd.Series.nunique , 'visitorId': pd.Series.nunique , 'revenue':'sum'}\n",
    "    )\n",
    "        ,axis=1\n",
    ").sort_values(by=['date','group'])\n",
    "\n",
    "acum_orders"
   ]
  },
  {
   "cell_type": "code",
   "execution_count": 14,
   "metadata": {},
   "outputs": [
    {
     "data": {
      "text/html": [
       "<div>\n",
       "<style scoped>\n",
       "    .dataframe tbody tr th:only-of-type {\n",
       "        vertical-align: middle;\n",
       "    }\n",
       "\n",
       "    .dataframe tbody tr th {\n",
       "        vertical-align: top;\n",
       "    }\n",
       "\n",
       "    .dataframe thead th {\n",
       "        text-align: right;\n",
       "    }\n",
       "</style>\n",
       "<table border=\"1\" class=\"dataframe\">\n",
       "  <thead>\n",
       "    <tr style=\"text-align: right;\">\n",
       "      <th></th>\n",
       "      <th>date</th>\n",
       "      <th>group</th>\n",
       "      <th>visits</th>\n",
       "    </tr>\n",
       "  </thead>\n",
       "  <tbody>\n",
       "    <tr>\n",
       "      <th>55</th>\n",
       "      <td>2019-08-01</td>\n",
       "      <td>A</td>\n",
       "      <td>719</td>\n",
       "    </tr>\n",
       "    <tr>\n",
       "      <th>66</th>\n",
       "      <td>2019-08-01</td>\n",
       "      <td>B</td>\n",
       "      <td>713</td>\n",
       "    </tr>\n",
       "    <tr>\n",
       "      <th>175</th>\n",
       "      <td>2019-08-02</td>\n",
       "      <td>A</td>\n",
       "      <td>1338</td>\n",
       "    </tr>\n",
       "    <tr>\n",
       "      <th>173</th>\n",
       "      <td>2019-08-02</td>\n",
       "      <td>B</td>\n",
       "      <td>1294</td>\n",
       "    </tr>\n",
       "    <tr>\n",
       "      <th>291</th>\n",
       "      <td>2019-08-03</td>\n",
       "      <td>A</td>\n",
       "      <td>1845</td>\n",
       "    </tr>\n",
       "    <tr>\n",
       "      <th>...</th>\n",
       "      <td>...</td>\n",
       "      <td>...</td>\n",
       "      <td>...</td>\n",
       "    </tr>\n",
       "    <tr>\n",
       "      <th>533</th>\n",
       "      <td>2019-08-29</td>\n",
       "      <td>B</td>\n",
       "      <td>17708</td>\n",
       "    </tr>\n",
       "    <tr>\n",
       "      <th>730</th>\n",
       "      <td>2019-08-30</td>\n",
       "      <td>A</td>\n",
       "      <td>18037</td>\n",
       "    </tr>\n",
       "    <tr>\n",
       "      <th>690</th>\n",
       "      <td>2019-08-30</td>\n",
       "      <td>B</td>\n",
       "      <td>18198</td>\n",
       "    </tr>\n",
       "    <tr>\n",
       "      <th>958</th>\n",
       "      <td>2019-08-31</td>\n",
       "      <td>A</td>\n",
       "      <td>18736</td>\n",
       "    </tr>\n",
       "    <tr>\n",
       "      <th>930</th>\n",
       "      <td>2019-08-31</td>\n",
       "      <td>B</td>\n",
       "      <td>18916</td>\n",
       "    </tr>\n",
       "  </tbody>\n",
       "</table>\n",
       "<p>62 rows × 3 columns</p>\n",
       "</div>"
      ],
      "text/plain": [
       "          date group  visits\n",
       "55  2019-08-01     A     719\n",
       "66  2019-08-01     B     713\n",
       "175 2019-08-02     A    1338\n",
       "173 2019-08-02     B    1294\n",
       "291 2019-08-03     A    1845\n",
       "..         ...   ...     ...\n",
       "533 2019-08-29     B   17708\n",
       "730 2019-08-30     A   18037\n",
       "690 2019-08-30     B   18198\n",
       "958 2019-08-31     A   18736\n",
       "930 2019-08-31     B   18916\n",
       "\n",
       "[62 rows x 3 columns]"
      ]
     },
     "execution_count": 14,
     "metadata": {},
     "output_type": "execute_result"
    }
   ],
   "source": [
    "acum_visitas = date_by_grup.apply(\n",
    "    lambda x :visitas[\n",
    "        np.logical_and(visitas['date'] <= x['date'] , visitas['group'] == x['group'])\n",
    "        ]\n",
    "    .agg(\n",
    "        {'date':'max' , 'group':'max' , 'visits':'sum'}\n",
    "    )\n",
    "    ,axis=1\n",
    ").sort_values(by=['date','group'])\n",
    "\n",
    "acum_visitas"
   ]
  },
  {
   "cell_type": "code",
   "execution_count": 15,
   "metadata": {},
   "outputs": [
    {
     "data": {
      "text/html": [
       "<div>\n",
       "<style scoped>\n",
       "    .dataframe tbody tr th:only-of-type {\n",
       "        vertical-align: middle;\n",
       "    }\n",
       "\n",
       "    .dataframe tbody tr th {\n",
       "        vertical-align: top;\n",
       "    }\n",
       "\n",
       "    .dataframe thead th {\n",
       "        text-align: right;\n",
       "    }\n",
       "</style>\n",
       "<table border=\"1\" class=\"dataframe\">\n",
       "  <thead>\n",
       "    <tr style=\"text-align: right;\">\n",
       "      <th></th>\n",
       "      <th>date</th>\n",
       "      <th>group</th>\n",
       "      <th>orders</th>\n",
       "      <th>buyers</th>\n",
       "      <th>revenue</th>\n",
       "      <th>visits</th>\n",
       "      <th>dia</th>\n",
       "    </tr>\n",
       "  </thead>\n",
       "  <tbody>\n",
       "    <tr>\n",
       "      <th>0</th>\n",
       "      <td>2019-08-01</td>\n",
       "      <td>A</td>\n",
       "      <td>24</td>\n",
       "      <td>20</td>\n",
       "      <td>2356.8</td>\n",
       "      <td>719</td>\n",
       "      <td>1</td>\n",
       "    </tr>\n",
       "    <tr>\n",
       "      <th>1</th>\n",
       "      <td>2019-08-01</td>\n",
       "      <td>B</td>\n",
       "      <td>17</td>\n",
       "      <td>17</td>\n",
       "      <td>967.2</td>\n",
       "      <td>713</td>\n",
       "      <td>1</td>\n",
       "    </tr>\n",
       "    <tr>\n",
       "      <th>2</th>\n",
       "      <td>2019-08-02</td>\n",
       "      <td>A</td>\n",
       "      <td>44</td>\n",
       "      <td>38</td>\n",
       "      <td>3860.3</td>\n",
       "      <td>1338</td>\n",
       "      <td>2</td>\n",
       "    </tr>\n",
       "    <tr>\n",
       "      <th>3</th>\n",
       "      <td>2019-08-02</td>\n",
       "      <td>B</td>\n",
       "      <td>40</td>\n",
       "      <td>39</td>\n",
       "      <td>3535.3</td>\n",
       "      <td>1294</td>\n",
       "      <td>2</td>\n",
       "    </tr>\n",
       "    <tr>\n",
       "      <th>4</th>\n",
       "      <td>2019-08-03</td>\n",
       "      <td>A</td>\n",
       "      <td>68</td>\n",
       "      <td>62</td>\n",
       "      <td>5675.5</td>\n",
       "      <td>1845</td>\n",
       "      <td>3</td>\n",
       "    </tr>\n",
       "    <tr>\n",
       "      <th>...</th>\n",
       "      <td>...</td>\n",
       "      <td>...</td>\n",
       "      <td>...</td>\n",
       "      <td>...</td>\n",
       "      <td>...</td>\n",
       "      <td>...</td>\n",
       "      <td>...</td>\n",
       "    </tr>\n",
       "    <tr>\n",
       "      <th>57</th>\n",
       "      <td>2019-08-29</td>\n",
       "      <td>B</td>\n",
       "      <td>510</td>\n",
       "      <td>490</td>\n",
       "      <td>74576.7</td>\n",
       "      <td>17708</td>\n",
       "      <td>29</td>\n",
       "    </tr>\n",
       "    <tr>\n",
       "      <th>58</th>\n",
       "      <td>2019-08-30</td>\n",
       "      <td>A</td>\n",
       "      <td>545</td>\n",
       "      <td>493</td>\n",
       "      <td>63563.5</td>\n",
       "      <td>18037</td>\n",
       "      <td>30</td>\n",
       "    </tr>\n",
       "    <tr>\n",
       "      <th>59</th>\n",
       "      <td>2019-08-30</td>\n",
       "      <td>B</td>\n",
       "      <td>531</td>\n",
       "      <td>511</td>\n",
       "      <td>77863.5</td>\n",
       "      <td>18198</td>\n",
       "      <td>30</td>\n",
       "    </tr>\n",
       "    <tr>\n",
       "      <th>60</th>\n",
       "      <td>2019-08-31</td>\n",
       "      <td>A</td>\n",
       "      <td>557</td>\n",
       "      <td>503</td>\n",
       "      <td>64554.9</td>\n",
       "      <td>18736</td>\n",
       "      <td>31</td>\n",
       "    </tr>\n",
       "    <tr>\n",
       "      <th>61</th>\n",
       "      <td>2019-08-31</td>\n",
       "      <td>B</td>\n",
       "      <td>548</td>\n",
       "      <td>528</td>\n",
       "      <td>79651.2</td>\n",
       "      <td>18916</td>\n",
       "      <td>31</td>\n",
       "    </tr>\n",
       "  </tbody>\n",
       "</table>\n",
       "<p>62 rows × 7 columns</p>\n",
       "</div>"
      ],
      "text/plain": [
       "         date group  orders  buyers  revenue  visits  dia\n",
       "0  2019-08-01     A      24      20   2356.8     719    1\n",
       "1  2019-08-01     B      17      17    967.2     713    1\n",
       "2  2019-08-02     A      44      38   3860.3    1338    2\n",
       "3  2019-08-02     B      40      39   3535.3    1294    2\n",
       "4  2019-08-03     A      68      62   5675.5    1845    3\n",
       "..        ...   ...     ...     ...      ...     ...  ...\n",
       "57 2019-08-29     B     510     490  74576.7   17708   29\n",
       "58 2019-08-30     A     545     493  63563.5   18037   30\n",
       "59 2019-08-30     B     531     511  77863.5   18198   30\n",
       "60 2019-08-31     A     557     503  64554.9   18736   31\n",
       "61 2019-08-31     B     548     528  79651.2   18916   31\n",
       "\n",
       "[62 rows x 7 columns]"
      ]
     },
     "execution_count": 15,
     "metadata": {},
     "output_type": "execute_result"
    }
   ],
   "source": [
    "acum_df = acum_orders.merge( acum_visitas, left_on=['date','group'], right_on=['date','group'])\n",
    "acum_df.columns= ['date','group', 'orders','buyers','revenue', 'visits']\n",
    "acum_df['dia'] = acum_df['date'].dt.day\n",
    "\n",
    "acum_df"
   ]
  },
  {
   "cell_type": "markdown",
   "metadata": {},
   "source": [
    "### 1-Representa gráficamente el ingreso acumulado por grupo. Haz conclusiones y conjeturas."
   ]
  },
  {
   "cell_type": "code",
   "execution_count": 16,
   "metadata": {},
   "outputs": [
    {
     "data": {
      "text/plain": [
       "<matplotlib.legend.Legend at 0x7f8344a8a460>"
      ]
     },
     "execution_count": 16,
     "metadata": {},
     "output_type": "execute_result"
    },
    {
     "data": {
      "image/png": "[encoded data removed]",
      "text/plain": [
       "<Figure size 640x480 with 1 Axes>"
      ]
     },
     "metadata": {},
     "output_type": "display_data"
    }
   ],
   "source": [
    "acumulado_ingreso_A= acum_df[acum_df['group']=='A'][['dia','revenue']]\n",
    "acumulado_ingreso_B= acum_df[acum_df['group']=='B'][['dia','revenue']]\n",
    "\n",
    "plt.plot(acumulado_ingreso_A['dia'],acumulado_ingreso_A['revenue'],label='A')\n",
    "plt.plot(acumulado_ingreso_B['dia'],acumulado_ingreso_B['revenue'],label='B')\n",
    "plt.xlabel('Dia del mes')\n",
    "plt.legend(['Grupo A','Grupo B'])"
   ]
  },
  {
   "cell_type": "markdown",
   "metadata": {},
   "source": [
    "El ingreso acumulado muestra que el grupo B esta por sobre el grupo A uncluso lo rebasa significativamente con el paso del tiempo."
   ]
  },
  {
   "cell_type": "markdown",
   "metadata": {},
   "source": [
    "<div class=\"alert alert-block alert-success\">\n",
    "<b>Comentario de Revisor</b> <a class=\"tocSkip\"></a>\n",
    "\n",
    "Correcto el resultado, se nota que alrededor del 18 algo paso que hizo que los grupos se distanciaran ampliamente.\n",
    "\n",
    "</div>"
   ]
  },
  {
   "cell_type": "markdown",
   "metadata": {},
   "source": [
    "### 2-Representa gráficamente el tamaño de pedido promedio acumulado por grupo. Haz conclusiones y conjeturas."
   ]
  },
  {
   "cell_type": "code",
   "execution_count": 17,
   "metadata": {},
   "outputs": [
    {
     "data": {
      "text/plain": [
       "<matplotlib.legend.Legend at 0x7f8344a014c0>"
      ]
     },
     "execution_count": 17,
     "metadata": {},
     "output_type": "execute_result"
    },
    {
     "data": {
      "image/png": "[encoded data removed]",
      "text/plain": [
       "<Figure size 640x480 with 1 Axes>"
      ]
     },
     "metadata": {},
     "output_type": "display_data"
    }
   ],
   "source": [
    "acumulado_orders_A= acum_df[acum_df['group']=='A'][['dia','orders']]\n",
    "acumulado_orders_B= acum_df[acum_df['group']=='B'][['dia','orders']]\n",
    "\n",
    "plt.plot(acumulado_orders_A['dia'],acumulado_orders_A['orders'],label='A')\n",
    "plt.plot(acumulado_orders_B['dia'],acumulado_orders_B['orders'],label='B')\n",
    "plt.xlabel('Dia del mes')\n",
    "plt.legend(['Grupo A','Grupo B'])"
   ]
  },
  {
   "cell_type": "markdown",
   "metadata": {},
   "source": [
    "### 3-Representa gráficamente la diferencia relativa en el tamaño de pedido promedio acumulado para el grupo B en comparación con el grupo A. Haz conclusiones y conjeturas."
   ]
  },
  {
   "cell_type": "markdown",
   "metadata": {},
   "source": [
    "Para calcular el tamaño promedio tenemos que dividir los ingresos entre el numero de pedidos:"
   ]
  },
  {
   "cell_type": "code",
   "execution_count": 18,
   "metadata": {},
   "outputs": [
    {
     "data": {
      "text/plain": [
       "<matplotlib.legend.Legend at 0x7f8344a4b070>"
      ]
     },
     "execution_count": 18,
     "metadata": {},
     "output_type": "execute_result"
    },
    {
     "data": {
      "image/png": "[encoded data removed]",
      "text/plain": [
       "<Figure size 640x480 with 1 Axes>"
      ]
     },
     "metadata": {},
     "output_type": "display_data"
    }
   ],
   "source": [
    "plt.plot(acumulado_ingreso_A['dia'] ,  acumulado_ingreso_A['revenue']/ acumulado_orders_A['orders'],label='A' )\n",
    "plt.plot(acumulado_ingreso_B['dia'] ,  acumulado_ingreso_B['revenue']/ acumulado_orders_B['orders'],label='B' )\n",
    "plt.xlabel('Dia del mes')\n",
    "plt.legend()\n"
   ]
  },
  {
   "cell_type": "markdown",
   "metadata": {},
   "source": [
    "No estoy seguro de como interpretar  este grafioco , parece que un pedido grande pudo alterar al grupo B  a mediados de mes.\n",
    "\n",
    "\n",
    "Revisemos las diferencias relativas de los tamaños promedio"
   ]
  },
  {
   "cell_type": "markdown",
   "metadata": {},
   "source": [
    "<div class=\"alert alert-block alert-success\">\n",
    "<b>Comentario de Revisor</b> <a class=\"tocSkip\"></a>\n",
    "\n",
    "Efectivamente, alrededor del 18 algo ocurrió que el grupo B creció demasiado.\n",
    "\n",
    "</div>"
   ]
  },
  {
   "cell_type": "code",
   "execution_count": 19,
   "metadata": {},
   "outputs": [
    {
     "data": {
      "text/plain": [
       "Text(0, 0.5, 'Tamaños promedio de compra en ambos grupos')"
      ]
     },
     "execution_count": 19,
     "metadata": {},
     "output_type": "execute_result"
    },
    {
     "data": {
      "image/png": "[encoded data removed]",
      "text/plain": [
       "<Figure size 640x480 with 1 Axes>"
      ]
     },
     "metadata": {},
     "output_type": "display_data"
    }
   ],
   "source": [
    "acumulado_ingreso_TOT= acumulado_ingreso_A.merge(acumulado_ingreso_B,left_on='dia', right_on='dia', how='left', suffixes=['A','B'])\n",
    "acumulado_orders_TOT=  acumulado_orders_A.merge(acumulado_orders_B,left_on='dia', right_on='dia', how='left', suffixes=['A','B'])\n",
    "acumulado_TOT=  acumulado_ingreso_TOT.merge(acumulado_orders_TOT,left_on='dia', right_on='dia', how='left')\n",
    "\n",
    "plt.plot(acumulado_TOT['dia'],  (acumulado_TOT['revenueB']/acumulado_TOT['ordersB']) / (acumulado_TOT['revenueA']/acumulado_TOT['ordersA'])-1 )\n",
    "plt.axhline(y=0, color='black', linestyle='--')\n",
    "plt.xlabel('Dia del mes')\n",
    "plt.ylabel('Tamaños promedio de compra en ambos grupos')"
   ]
  },
  {
   "cell_type": "markdown",
   "metadata": {},
   "source": [
    "La grafica esta lejos de ser estable , seguramente existen valores atipocos con respecto a pedidos grades de algun usuario en especial."
   ]
  },
  {
   "cell_type": "markdown",
   "metadata": {},
   "source": [
    "<div class=\"alert alert-block alert-success\">\n",
    "<b>Comentario de Revisor</b> <a class=\"tocSkip\"></a>\n",
    "\n",
    "Muy bien, nota que la diferencia se produce siempre en la misma fecha, probablemente es debido a pedidos ese día.\n",
    "\n",
    "</div>"
   ]
  },
  {
   "cell_type": "markdown",
   "metadata": {},
   "source": [
    "### 4-Calcula la tasa de conversión de cada grupo como la relación entre los pedidos y el número de visitas de cada día. Representa gráficamente las tasas de conversión diarias de los dos grupos y describe la diferencia. Saca conclusiones y haz conjeturas."
   ]
  },
  {
   "cell_type": "code",
   "execution_count": 20,
   "metadata": {},
   "outputs": [
    {
     "data": {
      "text/html": [
       "<div>\n",
       "<style scoped>\n",
       "    .dataframe tbody tr th:only-of-type {\n",
       "        vertical-align: middle;\n",
       "    }\n",
       "\n",
       "    .dataframe tbody tr th {\n",
       "        vertical-align: top;\n",
       "    }\n",
       "\n",
       "    .dataframe thead th {\n",
       "        text-align: right;\n",
       "    }\n",
       "</style>\n",
       "<table border=\"1\" class=\"dataframe\">\n",
       "  <thead>\n",
       "    <tr style=\"text-align: right;\">\n",
       "      <th></th>\n",
       "      <th>date</th>\n",
       "      <th>group</th>\n",
       "      <th>orders</th>\n",
       "      <th>buyers</th>\n",
       "      <th>revenue</th>\n",
       "      <th>visits</th>\n",
       "      <th>dia</th>\n",
       "      <th>conversion</th>\n",
       "    </tr>\n",
       "  </thead>\n",
       "  <tbody>\n",
       "    <tr>\n",
       "      <th>0</th>\n",
       "      <td>2019-08-01</td>\n",
       "      <td>A</td>\n",
       "      <td>24</td>\n",
       "      <td>20</td>\n",
       "      <td>2356.8</td>\n",
       "      <td>719</td>\n",
       "      <td>1</td>\n",
       "      <td>0.033380</td>\n",
       "    </tr>\n",
       "    <tr>\n",
       "      <th>1</th>\n",
       "      <td>2019-08-01</td>\n",
       "      <td>B</td>\n",
       "      <td>17</td>\n",
       "      <td>17</td>\n",
       "      <td>967.2</td>\n",
       "      <td>713</td>\n",
       "      <td>1</td>\n",
       "      <td>0.023843</td>\n",
       "    </tr>\n",
       "    <tr>\n",
       "      <th>2</th>\n",
       "      <td>2019-08-02</td>\n",
       "      <td>A</td>\n",
       "      <td>44</td>\n",
       "      <td>38</td>\n",
       "      <td>3860.3</td>\n",
       "      <td>1338</td>\n",
       "      <td>2</td>\n",
       "      <td>0.032885</td>\n",
       "    </tr>\n",
       "    <tr>\n",
       "      <th>3</th>\n",
       "      <td>2019-08-02</td>\n",
       "      <td>B</td>\n",
       "      <td>40</td>\n",
       "      <td>39</td>\n",
       "      <td>3535.3</td>\n",
       "      <td>1294</td>\n",
       "      <td>2</td>\n",
       "      <td>0.030912</td>\n",
       "    </tr>\n",
       "    <tr>\n",
       "      <th>4</th>\n",
       "      <td>2019-08-03</td>\n",
       "      <td>A</td>\n",
       "      <td>68</td>\n",
       "      <td>62</td>\n",
       "      <td>5675.5</td>\n",
       "      <td>1845</td>\n",
       "      <td>3</td>\n",
       "      <td>0.036856</td>\n",
       "    </tr>\n",
       "    <tr>\n",
       "      <th>...</th>\n",
       "      <td>...</td>\n",
       "      <td>...</td>\n",
       "      <td>...</td>\n",
       "      <td>...</td>\n",
       "      <td>...</td>\n",
       "      <td>...</td>\n",
       "      <td>...</td>\n",
       "      <td>...</td>\n",
       "    </tr>\n",
       "    <tr>\n",
       "      <th>57</th>\n",
       "      <td>2019-08-29</td>\n",
       "      <td>B</td>\n",
       "      <td>510</td>\n",
       "      <td>490</td>\n",
       "      <td>74576.7</td>\n",
       "      <td>17708</td>\n",
       "      <td>29</td>\n",
       "      <td>0.028801</td>\n",
       "    </tr>\n",
       "    <tr>\n",
       "      <th>58</th>\n",
       "      <td>2019-08-30</td>\n",
       "      <td>A</td>\n",
       "      <td>545</td>\n",
       "      <td>493</td>\n",
       "      <td>63563.5</td>\n",
       "      <td>18037</td>\n",
       "      <td>30</td>\n",
       "      <td>0.030216</td>\n",
       "    </tr>\n",
       "    <tr>\n",
       "      <th>59</th>\n",
       "      <td>2019-08-30</td>\n",
       "      <td>B</td>\n",
       "      <td>531</td>\n",
       "      <td>511</td>\n",
       "      <td>77863.5</td>\n",
       "      <td>18198</td>\n",
       "      <td>30</td>\n",
       "      <td>0.029179</td>\n",
       "    </tr>\n",
       "    <tr>\n",
       "      <th>60</th>\n",
       "      <td>2019-08-31</td>\n",
       "      <td>A</td>\n",
       "      <td>557</td>\n",
       "      <td>503</td>\n",
       "      <td>64554.9</td>\n",
       "      <td>18736</td>\n",
       "      <td>31</td>\n",
       "      <td>0.029729</td>\n",
       "    </tr>\n",
       "    <tr>\n",
       "      <th>61</th>\n",
       "      <td>2019-08-31</td>\n",
       "      <td>B</td>\n",
       "      <td>548</td>\n",
       "      <td>528</td>\n",
       "      <td>79651.2</td>\n",
       "      <td>18916</td>\n",
       "      <td>31</td>\n",
       "      <td>0.028970</td>\n",
       "    </tr>\n",
       "  </tbody>\n",
       "</table>\n",
       "<p>62 rows × 8 columns</p>\n",
       "</div>"
      ],
      "text/plain": [
       "         date group  orders  buyers  revenue  visits  dia  conversion\n",
       "0  2019-08-01     A      24      20   2356.8     719    1    0.033380\n",
       "1  2019-08-01     B      17      17    967.2     713    1    0.023843\n",
       "2  2019-08-02     A      44      38   3860.3    1338    2    0.032885\n",
       "3  2019-08-02     B      40      39   3535.3    1294    2    0.030912\n",
       "4  2019-08-03     A      68      62   5675.5    1845    3    0.036856\n",
       "..        ...   ...     ...     ...      ...     ...  ...         ...\n",
       "57 2019-08-29     B     510     490  74576.7   17708   29    0.028801\n",
       "58 2019-08-30     A     545     493  63563.5   18037   30    0.030216\n",
       "59 2019-08-30     B     531     511  77863.5   18198   30    0.029179\n",
       "60 2019-08-31     A     557     503  64554.9   18736   31    0.029729\n",
       "61 2019-08-31     B     548     528  79651.2   18916   31    0.028970\n",
       "\n",
       "[62 rows x 8 columns]"
      ]
     },
     "execution_count": 20,
     "metadata": {},
     "output_type": "execute_result"
    }
   ],
   "source": [
    "acum_df['conversion'] = acum_df['orders']/acum_df['visits']\n",
    "acum_df\n"
   ]
  },
  {
   "cell_type": "code",
   "execution_count": 21,
   "metadata": {},
   "outputs": [
    {
     "data": {
      "text/plain": [
       "<matplotlib.legend.Legend at 0x7f834491db20>"
      ]
     },
     "execution_count": 21,
     "metadata": {},
     "output_type": "execute_result"
    },
    {
     "data": {
      "image/png": "[encoded data removed]",
      "text/plain": [
       "<Figure size 640x480 with 1 Axes>"
      ]
     },
     "metadata": {},
     "output_type": "display_data"
    }
   ],
   "source": [
    "acum_df_A=acum_df[acum_df['group']=='A'] \n",
    "acum_df_B=acum_df[acum_df['group']=='B']\n",
    "\n",
    "\n",
    "\n",
    "plt.plot(acum_df_A['date'] , acum_df_A['conversion'], label='A')\n",
    "plt.plot(acum_df_B['date'] , acum_df_B['conversion'], label='B')\n",
    "\n",
    "plt.legend()"
   ]
  },
  {
   "cell_type": "markdown",
   "metadata": {},
   "source": [
    "Definitivamente podemos suponer que algunos datos estan resagando , al ser pedidos grandes debemos sacarlso del analisis."
   ]
  },
  {
   "cell_type": "markdown",
   "metadata": {},
   "source": [
    "<div class=\"alert alert-block alert-danger\">\n",
    "<b>Comentario de Revisor</b> <a class=\"tocSkip\"></a>\n",
    "\n",
    "Nota que graficaste dos veces la misma conversión, corrige esto.\n",
    "\n",
    "</div>"
   ]
  },
  {
   "cell_type": "markdown",
   "metadata": {},
   "source": [
    "<div class=\"alert alert-block alert-success\">\n",
    "<b>Comentario de Revisor v2</b> <a class=\"tocSkip\"></a>\n",
    "\n",
    "Muy bien, corregido!\n",
    "\n",
    "</div>"
   ]
  },
  {
   "cell_type": "markdown",
   "metadata": {},
   "source": [
    "### 5-Traza un gráfico de dispersión del número de pedidos por usuario. Haz conclusiones y conjeturas."
   ]
  },
  {
   "cell_type": "code",
   "execution_count": 22,
   "metadata": {},
   "outputs": [
    {
     "name": "stdout",
     "output_type": "stream",
     "text": [
      "          uderId  orders\n",
      "1023  4256040402       7\n",
      "487   2038680547       5\n",
      "591   2458001652       5\n",
      "44     199603092       4\n",
      "569   2378935119       4\n",
      "55     237748145       4\n",
      "504   2108163459       3\n",
      "667   2742574263       3\n",
      "959   3967698036       3\n",
      "726   2988190573       3\n"
     ]
    }
   ],
   "source": [
    "orders_by_user= orders.groupby('visitorId', as_index=False).agg({'transactionId':pd.Series.nunique})\n",
    "orders_by_user.columns=['uderId','orders']\n",
    "print(orders_by_user.sort_values(by='orders', ascending=False).head(10))"
   ]
  },
  {
   "cell_type": "code",
   "execution_count": 23,
   "metadata": {},
   "outputs": [
    {
     "data": {
      "text/plain": [
       "<matplotlib.collections.PathCollection at 0x7f8344a8ad90>"
      ]
     },
     "execution_count": 23,
     "metadata": {},
     "output_type": "execute_result"
    },
    {
     "data": {
      "image/png": "[encoded data removed]",
      "text/plain": [
       "<Figure size 640x480 with 1 Axes>"
      ]
     },
     "metadata": {},
     "output_type": "display_data"
    }
   ],
   "source": [
    "x_values= pd.Series(range(0,len(orders_by_user))) \n",
    "plt.scatter(x_values, orders_by_user['orders'])"
   ]
  },
  {
   "cell_type": "markdown",
   "metadata": {},
   "source": [
    "<div class=\"alert alert-block alert-danger\">\n",
    "<b>Comentario de Revisor</b> <a class=\"tocSkip\"></a>\n",
    "\n",
    "Ok, pero este resultado cambiará una vez que se corrijan los usuarios duplicados al principio.\n",
    "\n",
    "</div>"
   ]
  },
  {
   "cell_type": "markdown",
   "metadata": {},
   "source": [
    "Efectivamente podemos ver que existen usuarios que hicieron pedidos grandes o fuera de lo comun de mas de 10 articulos."
   ]
  },
  {
   "cell_type": "markdown",
   "metadata": {},
   "source": [
    "<div class=\"alert alert-block alert-success\">\n",
    "<b>Comentario de Revisor v2</b> <a class=\"tocSkip\"></a>\n",
    "\n",
    "Bien, en este caso vemos que son unos cuantos los que realizaron pedidos grandes\n",
    "\n",
    "</div>"
   ]
  },
  {
   "cell_type": "markdown",
   "metadata": {},
   "source": [
    "### 6-Calcula los percentiles 95 y 99 del número de pedidos por usuario. Define el punto en el cual un punto de datos se convierte en una anomalía."
   ]
  },
  {
   "cell_type": "code",
   "execution_count": 24,
   "metadata": {},
   "outputs": [
    {
     "name": "stdout",
     "output_type": "stream",
     "text": [
      "[1. 3.]\n"
     ]
    }
   ],
   "source": [
    "print(np.percentile(orders_by_user['orders'], [95,99]))"
   ]
  },
  {
   "cell_type": "markdown",
   "metadata": {},
   "source": [
    "### 7-Traza un gráfico de dispersión de los precios de los pedidos. Haz conclusiones y conjeturas."
   ]
  },
  {
   "cell_type": "markdown",
   "metadata": {},
   "source": [
    "Supongo que es el cuanto pagaron por los pedidos , no entiendo lo de precios."
   ]
  },
  {
   "cell_type": "code",
   "execution_count": 25,
   "metadata": {},
   "outputs": [
    {
     "name": "stdout",
     "output_type": "stream",
     "text": [
      "           order  revenue\n",
      "154    590470918  19920.4\n",
      "1020  3936777065   3120.1\n",
      "46     192721366   1450.2\n",
      "173    666610489   1425.8\n",
      "949   3668308183   1335.6\n",
      "461   1811671147   1220.2\n",
      "922   3603576309   1050.0\n",
      "339   1348774318   1025.8\n",
      "76     316924019   1015.9\n",
      "338   1347999392    930.0\n"
     ]
    }
   ],
   "source": [
    "cost_by_order= orders.groupby('transactionId', as_index=False).agg({'revenue':'sum'})\n",
    "cost_by_order.columns=['order','revenue']\n",
    "print(cost_by_order.sort_values(by='revenue', ascending=False).head(10))"
   ]
  },
  {
   "cell_type": "code",
   "execution_count": 26,
   "metadata": {},
   "outputs": [
    {
     "data": {
      "text/plain": [
       "<matplotlib.collections.PathCollection at 0x7f8344e4cb20>"
      ]
     },
     "execution_count": 26,
     "metadata": {},
     "output_type": "execute_result"
    },
    {
     "data": {
      "image/png": "[encoded data removed]",
      "text/plain": [
       "<Figure size 640x480 with 1 Axes>"
      ]
     },
     "metadata": {},
     "output_type": "display_data"
    }
   ],
   "source": [
    "x_values= pd.Series(range(0,len(cost_by_order))) \n",
    "plt.scatter(x_values, cost_by_order['revenue'])"
   ]
  },
  {
   "cell_type": "markdown",
   "metadata": {},
   "source": [
    "<div class=\"alert alert-block alert-success\">\n",
    "<b>Comentario de Revisor</b> <a class=\"tocSkip\"></a>\n",
    "\n",
    "Muy bien, nota que esto muestra un pedido anormalmente grande\n",
    "\n",
    "</div>"
   ]
  },
  {
   "cell_type": "markdown",
   "metadata": {},
   "source": [
    "### 8-Calcula los percentiles 95 y 99 de los precios de los pedidos. Define el punto en el cual un punto de datos se convierte en una anomalía."
   ]
  },
  {
   "cell_type": "code",
   "execution_count": 27,
   "metadata": {},
   "outputs": [
    {
     "name": "stdout",
     "output_type": "stream",
     "text": [
      "[425.56  897.884]\n"
     ]
    }
   ],
   "source": [
    "print(np.percentile(cost_by_order['revenue'], [95,99]))"
   ]
  },
  {
   "cell_type": "markdown",
   "metadata": {},
   "source": [
    "### 9-Encuentra la significancia estadística de la diferencia en la conversión entre los grupos utilizando los datos en bruto. Haz conclusiones y conjeturas."
   ]
  },
  {
   "cell_type": "code",
   "execution_count": 28,
   "metadata": {},
   "outputs": [
    {
     "name": "stdout",
     "output_type": "stream",
     "text": [
      "Total de compras grupo A el mes : 9229\n",
      "Total de visitas grupo A en el mes: 305673\n"
     ]
    }
   ],
   "source": [
    "print('Total de compras grupo A el mes :' , acum_df_A['orders'].sum())\n",
    "print('Total de visitas grupo A en el mes:',acum_df_A['visits'].sum())"
   ]
  },
  {
   "cell_type": "code",
   "execution_count": 29,
   "metadata": {},
   "outputs": [
    {
     "name": "stdout",
     "output_type": "stream",
     "text": [
      "Total de compras grupo B el mes : 9038\n",
      "Total de visitas grupo B en el mes: 307092\n"
     ]
    }
   ],
   "source": [
    "print('Total de compras grupo B el mes :' , acum_df_B['orders'].sum())\n",
    "print('Total de visitas grupo B en el mes:',acum_df_B['visits'].sum())"
   ]
  },
  {
   "cell_type": "code",
   "execution_count": 30,
   "metadata": {},
   "outputs": [
    {
     "data": {
      "text/plain": [
       "-8.629223525671534"
      ]
     },
     "execution_count": 30,
     "metadata": {},
     "output_type": "execute_result"
    }
   ],
   "source": [
    "purchases = np.array([9229,10466])\n",
    "leads = np.array([305673,307092])\n",
    "\n",
    "p1=purchases[0]/leads[0]\n",
    "p2=purchases[1]/leads[1] \n",
    "\n",
    "p_combined = (purchases[0] + purchases[1]) / (leads[0] + leads[1])\n",
    "\n",
    "difference =  p1-p2\n",
    "z_valueA = difference / mth.sqrt(p_combined*(1-p_combined)*(1/leads[0] + 1/leads[1]))\n",
    "\n",
    "z_valueA"
   ]
  },
  {
   "cell_type": "code",
   "execution_count": 31,
   "metadata": {},
   "outputs": [
    {
     "name": "stdout",
     "output_type": "stream",
     "text": [
      "p_valueA 0.0\n",
      "Rechazar la hipotesis nula , exite una diferencia grande entre lasproporciones\n"
     ]
    }
   ],
   "source": [
    "alpha=0.05\n",
    "distr =  st.norm(0,1)\n",
    "\n",
    "p_valueA= (1-distr.cdf(abs(z_valueA)))\n",
    "\n",
    "print('p_valueA', p_valueA)\n",
    "\n",
    "if p_valueA< alpha:\n",
    "    print('Rechazar la hipotesis nula , exite una diferencia grande entre lasproporciones')\n",
    "else:\n",
    "    print('No se pudo rechazar la hipotesis nula , No hay razon sufuciente para pensar que las poroporciones son diferentes')"
   ]
  },
  {
   "cell_type": "markdown",
   "metadata": {},
   "source": [
    "<div class=\"alert alert-block alert-danger\">\n",
    "<b>Comentario de Revisor</b> <a class=\"tocSkip\"></a>\n",
    "\n",
    "Ok, pero obtén el valor-p para tomar la decisión de rechazar o no la hipótesis nula. Realiza lo mismo para todos los tests siguientes.\n",
    "\n",
    "</div>"
   ]
  },
  {
   "cell_type": "markdown",
   "metadata": {},
   "source": [
    "<div class=\"alert alert-block alert-success\">\n",
    "<b>Comentario de Revisor v2</b> <a class=\"tocSkip\"></a>\n",
    "\n",
    "Bien, correcto\n",
    "\n",
    "</div>"
   ]
  },
  {
   "cell_type": "markdown",
   "metadata": {},
   "source": [
    "### 10-Encuentra la significancia estadística de la diferencia en el tamaño promedio de pedido entre los grupos utilizando los datos en bruto. Haz conclusiones y conjeturas."
   ]
  },
  {
   "cell_type": "code",
   "execution_count": 32,
   "metadata": {},
   "outputs": [
    {
     "name": "stdout",
     "output_type": "stream",
     "text": [
      "Total de compras grupo A el mes : 9229\n",
      "Total de compradores grupo A en el mes: 8381\n"
     ]
    }
   ],
   "source": [
    "print('Total de compras grupo A el mes :' , acum_df_A['orders'].sum())\n",
    "print('Total de compradores grupo A en el mes:',acum_df_A['buyers'].sum())"
   ]
  },
  {
   "cell_type": "code",
   "execution_count": 33,
   "metadata": {},
   "outputs": [
    {
     "name": "stdout",
     "output_type": "stream",
     "text": [
      "Total de compras grupo B el mes : 9038\n",
      "Total de compradores grupo B en el mes: 8782\n"
     ]
    }
   ],
   "source": [
    "print('Total de compras grupo B el mes :' , acum_df_B['orders'].sum())\n",
    "print('Total de compradores grupo B en el mes:',acum_df_B['buyers'].sum())"
   ]
  },
  {
   "cell_type": "code",
   "execution_count": 34,
   "metadata": {},
   "outputs": [
    {
     "data": {
      "text/plain": [
       "-5.212964280889944"
      ]
     },
     "execution_count": 34,
     "metadata": {},
     "output_type": "execute_result"
    }
   ],
   "source": [
    "purchases = np.array([8381,9717])\n",
    "leads = np.array([9229,10466])\n",
    "\n",
    "p1=purchases[0]/leads[0]\n",
    "p2=purchases[1]/leads[1] \n",
    "\n",
    "p_combined = (purchases[0] + purchases[1]) / (leads[0] + leads[1])\n",
    "\n",
    "difference =  p1-p2\n",
    "z_valueB = difference / mth.sqrt(p_combined*(1-p_combined)*(1/leads[0] + 1/leads[1]))\n",
    "\n",
    "z_valueB"
   ]
  },
  {
   "cell_type": "code",
   "execution_count": 35,
   "metadata": {},
   "outputs": [
    {
     "name": "stdout",
     "output_type": "stream",
     "text": [
      "p_valueB 9.292334579580341e-08\n",
      "Rechazar la hipotesis nula , exite una diferencia grande entre lasproporciones\n"
     ]
    }
   ],
   "source": [
    "\n",
    "p_valueB= (1-distr.cdf(abs(z_valueB)))\n",
    "\n",
    "print('p_valueB', p_valueB)\n",
    "\n",
    "if p_valueB< alpha:\n",
    "    print('Rechazar la hipotesis nula , exite una diferencia grande entre lasproporciones')\n",
    "else:\n",
    "    print('No se pudo rechazar la hipotesis nula , No hay razon sufuciente para pensar que las poroporciones son diferentes')"
   ]
  },
  {
   "cell_type": "markdown",
   "metadata": {},
   "source": [
    "### 11-Encuentra la significancia estadística de la diferencia en la conversión entre los grupos utilizando los datos filtrados. Haz conclusiones y conjeturas."
   ]
  },
  {
   "cell_type": "code",
   "execution_count": 36,
   "metadata": {},
   "outputs": [],
   "source": [
    "acum_df_filtrado = acum_df[(acum_df['revenue']<=30000) & (acum_df['orders']<=300)]\n",
    "acum_df_filtrado\n",
    "\n",
    "acum_filtrado_A=acum_df_filtrado[acum_df_filtrado['group']=='A'] \n",
    "acum_filtrado_B=acum_df_filtrado[acum_df_filtrado['group']=='B']\n"
   ]
  },
  {
   "cell_type": "code",
   "execution_count": 37,
   "metadata": {},
   "outputs": [
    {
     "name": "stdout",
     "output_type": "stream",
     "text": [
      "Total de compras grupo A el mes : 2080\n",
      "Total de visitas grupo A en el mes: 67689\n"
     ]
    }
   ],
   "source": [
    "print('Total de compras grupo A el mes :' , acum_filtrado_A['orders'].sum())\n",
    "print('Total de visitas grupo A en el mes:',acum_filtrado_A['visits'].sum())"
   ]
  },
  {
   "cell_type": "code",
   "execution_count": 38,
   "metadata": {},
   "outputs": [
    {
     "name": "stdout",
     "output_type": "stream",
     "text": [
      "Total de compras grupo A el mes : 1997\n",
      "Total de visitas grupo A en el mes: 67630\n"
     ]
    }
   ],
   "source": [
    "print('Total de compras grupo A el mes :' , acum_filtrado_B['orders'].sum())\n",
    "print('Total de visitas grupo A en el mes:',acum_filtrado_B['visits'].sum())"
   ]
  },
  {
   "cell_type": "code",
   "execution_count": 39,
   "metadata": {},
   "outputs": [
    {
     "data": {
      "text/plain": [
       "-3.2727813682659903"
      ]
     },
     "execution_count": 39,
     "metadata": {},
     "output_type": "execute_result"
    }
   ],
   "source": [
    "purchases = np.array([2080,1991])\n",
    "leads = np.array([67689,58574])\n",
    "\n",
    "p1=purchases[0]/leads[0]\n",
    "p2=purchases[1]/leads[1] \n",
    "\n",
    "p_combined = (purchases[0] + purchases[1]) / (leads[0] + leads[1])\n",
    "\n",
    "difference =  p1-p2\n",
    "z_valueC = difference / mth.sqrt(p_combined*(1-p_combined)*(1/leads[0] + 1/leads[1]))\n",
    "\n",
    "z_valueC"
   ]
  },
  {
   "cell_type": "code",
   "execution_count": 40,
   "metadata": {},
   "outputs": [
    {
     "name": "stdout",
     "output_type": "stream",
     "text": [
      "p_valueC 0.0005324740894544489\n",
      "Rechazar la hipotesis nula , exite una diferencia grande entre lasproporciones\n"
     ]
    }
   ],
   "source": [
    "p_valueC= (1-distr.cdf(abs(z_valueC)))\n",
    "\n",
    "print('p_valueC', p_valueC)\n",
    "\n",
    "if p_valueC< alpha:\n",
    "    print('Rechazar la hipotesis nula , exite una diferencia grande entre lasproporciones')\n",
    "else:\n",
    "    print('No se pudo rechazar la hipotesis nula , No hay razon sufuciente para pensar que las poroporciones son diferentes')"
   ]
  },
  {
   "cell_type": "markdown",
   "metadata": {},
   "source": [
    "### 12-Encuentra la significancia estadística de la diferencia en el tamaño promedio de pedido entre los grupos utilizando los datos filtrados. Haz conclusiones y conjeturas."
   ]
  },
  {
   "cell_type": "code",
   "execution_count": 41,
   "metadata": {},
   "outputs": [
    {
     "name": "stdout",
     "output_type": "stream",
     "text": [
      "Total de compras grupo A el mes : 2080\n",
      "Total de compradores grupo A en el mes: 1959\n"
     ]
    }
   ],
   "source": [
    "print('Total de compras grupo A el mes :' , acum_filtrado_A['orders'].sum())\n",
    "print('Total de compradores grupo A en el mes:',acum_filtrado_B['buyers'].sum())"
   ]
  },
  {
   "cell_type": "code",
   "execution_count": 42,
   "metadata": {},
   "outputs": [
    {
     "name": "stdout",
     "output_type": "stream",
     "text": [
      "Total de compras grupo A el mes : 1997\n",
      "Total de compradores grupo A en el mes: 1959\n"
     ]
    }
   ],
   "source": [
    "print('Total de compras grupo A el mes :' , acum_filtrado_B['orders'].sum())\n",
    "print('Total de compradores grupo A en el mes:',acum_filtrado_B['buyers'].sum())"
   ]
  },
  {
   "cell_type": "code",
   "execution_count": 43,
   "metadata": {},
   "outputs": [
    {
     "data": {
      "text/plain": [
       "-4.973544269302964"
      ]
     },
     "execution_count": 43,
     "metadata": {},
     "output_type": "execute_result"
    }
   ],
   "source": [
    "purchases = np.array([1887,1887])\n",
    "leads = np.array([2080,1991])\n",
    "\n",
    "p1=purchases[0]/leads[0]\n",
    "p2=purchases[1]/leads[1] \n",
    "\n",
    "p_combined = (purchases[0] + purchases[1]) / (leads[0] + leads[1])\n",
    "\n",
    "difference =  p1-p2\n",
    "z_value_B = difference / mth.sqrt(p_combined*(1-p_combined)*(1/leads[0] + 1/leads[1]))\n",
    "\n",
    "z_value_B"
   ]
  },
  {
   "cell_type": "markdown",
   "metadata": {},
   "source": [
    "### 13-Toma una decisión basada en los resultados de la prueba. Las decisiones posibles son: 1. Parar la prueba, considerar a uno de los grupos como líder. 2. Parar la prueba, concluir que no hay diferencia entre los grupos. 3. Continuar la prueba."
   ]
  },
  {
   "cell_type": "code",
   "execution_count": 44,
   "metadata": {},
   "outputs": [
    {
     "name": "stdout",
     "output_type": "stream",
     "text": [
      "p_value 3.286987632078464e-07\n",
      "Rechazar la hipotesis nula , exite una diferencia grande entre lasproporciones\n"
     ]
    }
   ],
   "source": [
    "alpha=0.05\n",
    "distr =  st.norm(0,1)\n",
    "\n",
    "p_value= (1-distr.cdf(abs(z_value_B)))\n",
    "\n",
    "print('p_value', p_value)\n",
    "\n",
    "if p_value< alpha:\n",
    "    print('Rechazar la hipotesis nula , exite una diferencia grande entre lasproporciones')\n",
    "else:\n",
    "    print('No se pudo rechazar la hipotesis nula , No hay razon sufuciente para pensar que las poroporciones son diferentes')"
   ]
  },
  {
   "cell_type": "markdown",
   "metadata": {},
   "source": [
    "<div class=\"alert alert-block alert-danger\">\n",
    "<b>Comentario de Revisor v2</b> <a class=\"tocSkip\"></a>\n",
    "\n",
    "Falta corregir esta última celda\n",
    "\n",
    "</div>"
   ]
  },
  {
   "cell_type": "markdown",
   "metadata": {},
   "source": [
    "<div class=\"alert alert-block alert-success\">\n",
    "<b>Comentario de Revisor v3</b> <a class=\"tocSkip\"></a>\n",
    "\n",
    "Muy bien, correcto\n",
    "\n",
    "</div>"
   ]
  },
  {
   "cell_type": "markdown",
   "metadata": {},
   "source": [
    "El resultado indica rechazar la hipotesis nula , pero al solo tenerun mes de prueba y lo disperso de los datos pienso que se deveria \"Continuar con la prueba\""
   ]
  }
 ],
 "metadata": {
  "ExecuteTimeLog": [
   {
    "duration": 155,
    "start_time": "2025-02-02T03:14:09.783Z"
   },
   {
    "duration": 2484,
    "start_time": "2025-02-02T03:14:46.949Z"
   },
   {
    "duration": 576,
    "start_time": "2025-02-02T03:14:49.435Z"
   },
   {
    "duration": 0,
    "start_time": "2025-02-02T03:14:50.014Z"
   },
   {
    "duration": 0,
    "start_time": "2025-02-02T03:14:50.015Z"
   },
   {
    "duration": 0,
    "start_time": "2025-02-02T03:14:50.016Z"
   },
   {
    "duration": 0,
    "start_time": "2025-02-02T03:14:50.018Z"
   },
   {
    "duration": 0,
    "start_time": "2025-02-02T03:14:50.018Z"
   },
   {
    "duration": 0,
    "start_time": "2025-02-02T03:14:50.019Z"
   },
   {
    "duration": 0,
    "start_time": "2025-02-02T03:14:50.021Z"
   },
   {
    "duration": 0,
    "start_time": "2025-02-02T03:14:50.022Z"
   },
   {
    "duration": 0,
    "start_time": "2025-02-02T03:14:50.024Z"
   },
   {
    "duration": 0,
    "start_time": "2025-02-02T03:14:50.025Z"
   },
   {
    "duration": 0,
    "start_time": "2025-02-02T03:14:50.027Z"
   },
   {
    "duration": 0,
    "start_time": "2025-02-02T03:14:50.028Z"
   },
   {
    "duration": 0,
    "start_time": "2025-02-02T03:14:50.029Z"
   },
   {
    "duration": 0,
    "start_time": "2025-02-02T03:14:50.031Z"
   },
   {
    "duration": 0,
    "start_time": "2025-02-02T03:14:50.032Z"
   },
   {
    "duration": 0,
    "start_time": "2025-02-02T03:14:50.033Z"
   },
   {
    "duration": 0,
    "start_time": "2025-02-02T03:14:50.034Z"
   },
   {
    "duration": 0,
    "start_time": "2025-02-02T03:14:50.035Z"
   },
   {
    "duration": 0,
    "start_time": "2025-02-02T03:14:50.070Z"
   },
   {
    "duration": 0,
    "start_time": "2025-02-02T03:14:50.072Z"
   },
   {
    "duration": 0,
    "start_time": "2025-02-02T03:14:50.074Z"
   },
   {
    "duration": 0,
    "start_time": "2025-02-02T03:14:50.077Z"
   },
   {
    "duration": 0,
    "start_time": "2025-02-02T03:14:50.078Z"
   },
   {
    "duration": 0,
    "start_time": "2025-02-02T03:14:50.080Z"
   },
   {
    "duration": 0,
    "start_time": "2025-02-02T03:14:50.081Z"
   },
   {
    "duration": 1,
    "start_time": "2025-02-02T03:14:50.082Z"
   },
   {
    "duration": 0,
    "start_time": "2025-02-02T03:14:50.084Z"
   },
   {
    "duration": 0,
    "start_time": "2025-02-02T03:14:50.086Z"
   },
   {
    "duration": 0,
    "start_time": "2025-02-02T03:14:50.087Z"
   },
   {
    "duration": 0,
    "start_time": "2025-02-02T03:14:50.089Z"
   },
   {
    "duration": 1,
    "start_time": "2025-02-02T03:14:50.090Z"
   },
   {
    "duration": 0,
    "start_time": "2025-02-02T03:14:50.092Z"
   },
   {
    "duration": 0,
    "start_time": "2025-02-02T03:14:50.093Z"
   },
   {
    "duration": 0,
    "start_time": "2025-02-02T03:14:50.095Z"
   },
   {
    "duration": 0,
    "start_time": "2025-02-02T03:14:50.096Z"
   },
   {
    "duration": 0,
    "start_time": "2025-02-02T03:14:50.098Z"
   },
   {
    "duration": 0,
    "start_time": "2025-02-02T03:14:50.099Z"
   },
   {
    "duration": 0,
    "start_time": "2025-02-02T03:14:50.100Z"
   },
   {
    "duration": 0,
    "start_time": "2025-02-02T03:14:50.111Z"
   },
   {
    "duration": 0,
    "start_time": "2025-02-02T03:14:50.112Z"
   },
   {
    "duration": 0,
    "start_time": "2025-02-02T03:14:50.113Z"
   },
   {
    "duration": 0,
    "start_time": "2025-02-02T03:14:50.113Z"
   },
   {
    "duration": 15,
    "start_time": "2025-02-02T03:16:17.087Z"
   },
   {
    "duration": 69,
    "start_time": "2025-02-02T03:16:22.524Z"
   },
   {
    "duration": 11,
    "start_time": "2025-02-02T03:16:24.717Z"
   },
   {
    "duration": 771,
    "start_time": "2025-02-02T03:16:29.075Z"
   },
   {
    "duration": 12,
    "start_time": "2025-02-02T03:16:29.850Z"
   },
   {
    "duration": 12,
    "start_time": "2025-02-02T03:16:29.863Z"
   },
   {
    "duration": 7,
    "start_time": "2025-02-02T03:16:29.877Z"
   },
   {
    "duration": 309,
    "start_time": "2025-02-02T03:16:29.886Z"
   },
   {
    "duration": 11,
    "start_time": "2025-02-02T03:16:30.197Z"
   },
   {
    "duration": 9,
    "start_time": "2025-02-02T03:16:30.210Z"
   },
   {
    "duration": 9,
    "start_time": "2025-02-02T03:16:30.221Z"
   },
   {
    "duration": 4,
    "start_time": "2025-02-02T03:16:30.232Z"
   },
   {
    "duration": 5,
    "start_time": "2025-02-02T03:16:30.240Z"
   },
   {
    "duration": 11,
    "start_time": "2025-02-02T03:16:30.247Z"
   },
   {
    "duration": 10,
    "start_time": "2025-02-02T03:16:30.270Z"
   },
   {
    "duration": 163,
    "start_time": "2025-02-02T03:16:30.283Z"
   },
   {
    "duration": 127,
    "start_time": "2025-02-02T03:16:30.447Z"
   },
   {
    "duration": 16,
    "start_time": "2025-02-02T03:16:30.576Z"
   },
   {
    "duration": 146,
    "start_time": "2025-02-02T03:16:30.594Z"
   },
   {
    "duration": 129,
    "start_time": "2025-02-02T03:16:30.742Z"
   },
   {
    "duration": 183,
    "start_time": "2025-02-02T03:16:30.874Z"
   },
   {
    "duration": 222,
    "start_time": "2025-02-02T03:16:31.059Z"
   },
   {
    "duration": 15,
    "start_time": "2025-02-02T03:16:31.283Z"
   },
   {
    "duration": 162,
    "start_time": "2025-02-02T03:16:31.300Z"
   },
   {
    "duration": 145,
    "start_time": "2025-02-02T03:16:31.464Z"
   },
   {
    "duration": 116,
    "start_time": "2025-02-02T03:16:31.611Z"
   },
   {
    "duration": 4,
    "start_time": "2025-02-02T03:16:31.728Z"
   },
   {
    "duration": 8,
    "start_time": "2025-02-02T03:16:31.734Z"
   },
   {
    "duration": 130,
    "start_time": "2025-02-02T03:16:31.744Z"
   },
   {
    "duration": 4,
    "start_time": "2025-02-02T03:16:31.876Z"
   },
   {
    "duration": 3,
    "start_time": "2025-02-02T03:16:31.884Z"
   },
   {
    "duration": 10,
    "start_time": "2025-02-02T03:16:31.889Z"
   },
   {
    "duration": 5,
    "start_time": "2025-02-02T03:16:31.900Z"
   },
   {
    "duration": 4,
    "start_time": "2025-02-02T03:16:31.907Z"
   },
   {
    "duration": 4,
    "start_time": "2025-02-02T03:16:31.913Z"
   },
   {
    "duration": 4,
    "start_time": "2025-02-02T03:16:31.919Z"
   },
   {
    "duration": 51,
    "start_time": "2025-02-02T03:16:31.924Z"
   },
   {
    "duration": 4,
    "start_time": "2025-02-02T03:16:31.977Z"
   },
   {
    "duration": 5,
    "start_time": "2025-02-02T03:16:31.982Z"
   },
   {
    "duration": 4,
    "start_time": "2025-02-02T03:16:31.989Z"
   },
   {
    "duration": 4,
    "start_time": "2025-02-02T03:16:31.995Z"
   },
   {
    "duration": 5,
    "start_time": "2025-02-02T03:16:32.001Z"
   },
   {
    "duration": 3,
    "start_time": "2025-02-02T03:16:32.008Z"
   },
   {
    "duration": 4,
    "start_time": "2025-02-02T03:16:32.013Z"
   },
   {
    "duration": 3,
    "start_time": "2025-02-02T03:16:32.019Z"
   },
   {
    "duration": 50,
    "start_time": "2025-02-02T03:16:32.024Z"
   },
   {
    "duration": 229,
    "start_time": "2025-02-02T03:16:32.076Z"
   },
   {
    "duration": 161,
    "start_time": "2025-02-02T03:53:20.194Z"
   },
   {
    "duration": 2508,
    "start_time": "2025-02-03T01:56:59.642Z"
   },
   {
    "duration": 18,
    "start_time": "2025-02-03T01:57:02.153Z"
   },
   {
    "duration": 8,
    "start_time": "2025-02-03T01:57:02.173Z"
   },
   {
    "duration": 8,
    "start_time": "2025-02-03T01:57:02.184Z"
   },
   {
    "duration": 285,
    "start_time": "2025-02-03T01:57:02.193Z"
   },
   {
    "duration": 14,
    "start_time": "2025-02-03T01:57:02.480Z"
   },
   {
    "duration": 10,
    "start_time": "2025-02-03T01:57:02.495Z"
   },
   {
    "duration": 9,
    "start_time": "2025-02-03T01:57:02.506Z"
   },
   {
    "duration": 4,
    "start_time": "2025-02-03T01:57:02.517Z"
   },
   {
    "duration": 6,
    "start_time": "2025-02-03T01:57:02.524Z"
   },
   {
    "duration": 11,
    "start_time": "2025-02-03T01:57:02.531Z"
   },
   {
    "duration": 31,
    "start_time": "2025-02-03T01:57:02.543Z"
   },
   {
    "duration": 146,
    "start_time": "2025-02-03T01:57:02.575Z"
   },
   {
    "duration": 109,
    "start_time": "2025-02-03T01:57:02.723Z"
   },
   {
    "duration": 16,
    "start_time": "2025-02-03T01:57:02.833Z"
   },
   {
    "duration": 146,
    "start_time": "2025-02-03T01:57:02.851Z"
   },
   {
    "duration": 128,
    "start_time": "2025-02-03T01:57:02.999Z"
   },
   {
    "duration": 121,
    "start_time": "2025-02-03T01:57:03.129Z"
   },
   {
    "duration": 241,
    "start_time": "2025-02-03T01:57:03.253Z"
   },
   {
    "duration": 19,
    "start_time": "2025-02-03T01:57:03.495Z"
   },
   {
    "duration": 165,
    "start_time": "2025-02-03T01:57:03.516Z"
   },
   {
    "duration": 123,
    "start_time": "2025-02-03T01:57:03.683Z"
   },
   {
    "duration": 165,
    "start_time": "2025-02-03T01:57:03.808Z"
   },
   {
    "duration": 5,
    "start_time": "2025-02-03T01:57:03.975Z"
   },
   {
    "duration": 9,
    "start_time": "2025-02-03T01:57:03.982Z"
   },
   {
    "duration": 123,
    "start_time": "2025-02-03T01:57:03.993Z"
   },
   {
    "duration": 4,
    "start_time": "2025-02-03T01:57:04.118Z"
   },
   {
    "duration": 3,
    "start_time": "2025-02-03T01:57:04.125Z"
   },
   {
    "duration": 4,
    "start_time": "2025-02-03T01:57:04.129Z"
   },
   {
    "duration": 8,
    "start_time": "2025-02-03T01:57:04.135Z"
   },
   {
    "duration": 30,
    "start_time": "2025-02-03T01:57:04.144Z"
   },
   {
    "duration": 4,
    "start_time": "2025-02-03T01:57:04.175Z"
   },
   {
    "duration": 3,
    "start_time": "2025-02-03T01:57:04.181Z"
   },
   {
    "duration": 6,
    "start_time": "2025-02-03T01:57:04.186Z"
   },
   {
    "duration": 3,
    "start_time": "2025-02-03T01:57:04.194Z"
   },
   {
    "duration": 6,
    "start_time": "2025-02-03T01:57:04.199Z"
   },
   {
    "duration": 4,
    "start_time": "2025-02-03T01:57:04.206Z"
   },
   {
    "duration": 3,
    "start_time": "2025-02-03T01:57:04.212Z"
   },
   {
    "duration": 53,
    "start_time": "2025-02-03T01:57:04.217Z"
   },
   {
    "duration": 5,
    "start_time": "2025-02-03T01:57:04.271Z"
   },
   {
    "duration": 4,
    "start_time": "2025-02-03T01:57:04.277Z"
   },
   {
    "duration": 3,
    "start_time": "2025-02-03T01:57:04.283Z"
   },
   {
    "duration": 5,
    "start_time": "2025-02-03T01:57:04.288Z"
   },
   {
    "duration": 4,
    "start_time": "2025-02-03T01:57:04.295Z"
   }
  ],
  "kernelspec": {
   "display_name": "Python 3 (ipykernel)",
   "language": "python",
   "name": "python3"
  },
  "language_info": {
   "codemirror_mode": {
    "name": "ipython",
    "version": 3
   },
   "file_extension": ".py",
   "mimetype": "text/x-python",
   "name": "python",
   "nbconvert_exporter": "python",
   "pygments_lexer": "ipython3",
   "version": "3.9.19"
  },
  "toc": {
   "base_numbering": 1,
   "nav_menu": {},
   "number_sections": true,
   "sideBar": true,
   "skip_h1_title": true,
   "title_cell": "Table of Contents",
   "title_sidebar": "Contents",
   "toc_cell": false,
   "toc_position": {},
   "toc_section_display": true,
   "toc_window_display": false
  }
 },
 "nbformat": 4,
 "nbformat_minor": 2
}
